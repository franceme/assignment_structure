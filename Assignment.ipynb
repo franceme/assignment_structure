{
 "cells": [
  {
   "cell_type": "markdown",
   "metadata": {
   	"trusted":true,
	"editable":false,
	"deletable":false
   },
   "source": [
    "# Introduction and setup"
   ]
  },
  {
   "cell_type": "markdown",
   "metadata": {
   	"trusted":true,
	"editable":false,
	"deletable":false
   },
   "source": [
    "## Magic Methods"
   ]
  },
  {
   "cell_type": "markdown",
   "metadata": {
   	"trusted":true,
	"editable":false,
	"deletable":false
   },
   "source": [
    "> Note: the magic methods should not have any statement after it (including any semi-colons, parenthesis, etc...)."
   ]
  },
  {
   "cell_type": "markdown",
   "metadata": {
   	"trusted":true,
	"editable":false,
	"deletable":false
   },
   "source": [
    "| Magic Command                 | Applies To  | Description                                                          |\n",
    "| :---------------------------- | :---------: | :------------------------------------------------------------------: |\n",
    "| %jars <REGEX>                 | Single Line | Specifies the jars via local path to be loaded into the environment. |\n",
    "| %%compile <FILENAME>          | Whole Cell  | Saves and compiles the entirety of the cell contents as a java file. |\n",
    "| %maven <NAME:PACKAGE:VERSION> | Single Line | Imports the specified dependency using Gradle like specification.    |\n",
    "| %compiled                     | Single Line | Returns the path to the latest compiled class file.                  |\n",
    "| %cclasses                     | Single Line | Returns an ArrayList<String> of all of the compiled class files.     |\n",
    "| %jvm <java|java7|android>     | Single Line | Retrieves the dynamically specified jvm from the sdkman repository.  |\n",
    "| %writeOut <FILEPATH>          | Whole Cell  | Writes the entirety of the cell contents to the specified file path. |\n",
    "| %system                       | Single Line | Runs the specified command via shell and prints the response.        |\n"
   ]
  },
  {
   "cell_type": "markdown",
   "metadata": {
   	"trusted":true,
	"editable":false,
	"deletable":false
   },
   "source": [
    "## Imports"
   ]
  },
  {
   "cell_type": "code",
   "execution_count": null,
   "metadata": {
   	"trusted":true,
	"editable":false,
	"deletable":false
   },
   "outputs": [],
   "source": [
    "// Importing the local CryptoGuard Jar\n",
    "List <String> addedJars = %jars *.jar\n",
    "\n",
    "// Maven Imports\n",
    "%maven junit:junit:4.12\n",
    "%maven commons-io:commons-io:2.7\n",
    "%maven com.binarytweed:quarantining-test-runner:0.0.3\n",
    "\n",
    "// Gradle imports\n",
    "import static org.junit.Assert.assertFalse;\n",
    "import static org.junit.Assert.assertTrue;\n",
    "import static org.junit.Assert.assertEquals;\n",
    "import static org.junit.Assert.assertNull;\n",
    "import static org.junit.Assert.assertNotNull;\n",
    "import static util.Utils.makeArg;\n",
    "import frontEnd.Interface.outputRouting.ExceptionHandler;\n",
    "import frontEnd.Interface.ArgumentsCheck;\n",
    "import frontEnd.MessagingSystem.routing.Listing;\n",
    "import frontEnd.MessagingSystem.routing.EnvironmentInformation;\n",
    "import frontEnd.MessagingSystem.routing.structure.Default.Report;\n",
    "import frontEnd.MessagingSystem.routing.structure.Scarf.AnalyzerReport;\n",
    "import frontEnd.MessagingSystem.routing.structure.Scarf.BugInstance;\n",
    "import frontEnd.Interface.EntryPoint;\n",
    "import rule.engine.EngineType;\n",
    "import frontEnd.argsIdentifier;\n",
    "import java.io.File;\n",
    "import java.nio.charset.StandardCharsets;\n",
    "import java.nio.file.Files;\n",
    "import java.nio.file.Paths;\n",
    "import java.util.ArrayList;\n",
    "import java.util.Arrays;\n",
    "import java.util.List;\n",
    "import org.junit.After;\n",
    "import org.junit.Before;\n",
    "import org.junit.Test;\n",
    "import org.junit.runner.RunWith;\n",
    "import soot.G;\n",
    "import util.Utils;\n",
    "import org.apache.commons.io.FileUtils;\n",
    "import java.util.Scanner;\n",
    "import com.binarytweed.test.Quarantine;\n",
    "import com.binarytweed.test.QuarantiningRunner;\n",
    "import java.io.File;"
   ]
  },
  {
   "cell_type": "markdown",
   "metadata": {
   	"trusted":true,
	"editable":false,
	"deletable":false
   },
   "source": [
    "## Helpful Utility Functions"
   ]
  },
  {
    "cell_type": "code",
    "execution_count": null,
   "metadata": {
   	"trusted":true,
	"editable":false,
	"deletable":false
   },
    "outputs": [],
    "source": [
     "// region String Display\n",
     "public static void print(String file) {\n",
     "\ttry {\n",
     "\t\tScanner reader = new Scanner(new File(file));\n",
     "\n",
     "\t\twhile (reader.hasNextLine()) \n",
     "\t\t\tSystem.out.println(reader.nextLine());\n",
     "\t}\n",
     "\tcatch (FileNotFoundException e) {\n",
     "\t}\n",
     "}"
    ]
  },
  {
   "cell_type": "markdown",
   "metadata": {
   	"trusted":true,
	"editable":false,
	"deletable":false
   },
   "source": [
    "* You can find the source code for the [AnalyzerReport here](https://github.com/CryptoGuardOSS/cryptoguard/blob/master/src/main/java/frontEnd/MessagingSystem/routing/structure/Scarf/AnalyzerReport.java)."
   ]
  },
  {
   "cell_type": "markdown",
   "metadata": {
   	"trusted":true,
	"editable":false,
	"deletable":false
   },
   "source": [
    "## Testing Method Setup"
   ]
  },
  {
   "cell_type": "code",
   "execution_count": null,
   "metadata": {
   	"trusted":true,
	"editable":false,
	"deletable":false
   },
   "outputs": [],
   "source": [
    "//This is a curated testing method to simply scan the .class file path passed in.\n",
    "//__DO NOT CHANGE UNLESS YOU KNOW WHAT YOU ARE DOING__\n",
    "@RunWith(QuarantiningRunner.class)\n",
    "@Quarantine({\"com.binarytweed\", \"*\"})\n",
    "public class main_TestableFile_VerySimple {\n",
    "\tpublic static AnalyzerReport scanfile(String source) {\n",
    "\t\tG.reset();\n",
    "\t\tsoot.G.v().reset();\n",
    "\n",
    "\t\tString vm = %jvm java\n",
    "\t\tString fileOut = source + \".xml\";\n",
    "\t\tAnalyzerReport output = null;\n",
    "\n",
    "\t\t\tString args =\n",
    "\t\t\t\tmakeArg(argsIdentifier.FORMAT, EngineType.CLASSFILES)\n",
    "\t\t\t\t+ makeArg(argsIdentifier.FORMATOUT, Listing.ScarfXML)\n",
    "\t\t\t\t+ makeArg(argsIdentifier.SOURCE, source)\n",
    "\t\t\t\t+ makeArg(argsIdentifier.NOEXIT)\n",
    "\t\t\t\t+ makeArg(argsIdentifier.STREAM)\n",
    "\t\t\t\t+ makeArg(argsIdentifier.PRETTY)\n",
    "\t\t\t\t+ makeArg(argsIdentifier.JAVA, vm)\n",
    "\t\t\t\t+ makeArg(argsIdentifier.OUT, fileOut);\n",
    "\n",
    "\t\t\ttry {\n",
    "\t\t\t\tEntryPoint.main(args.split(\" \"));\n",
    "\t\t\t\toutput = AnalyzerReport.deserialize(new File(fileOut));\n",
    "\t\t\t\t//print(fileOut);\n",
    "\t\t\t} catch (Exception e) {\n",
    "\t\t\t\te.printStackTrace();\n",
    "\t\t\t\tassertNull(e);\n",
    "\t\t\t}\n",
    "\treturn output;\n",
    "\t}\n",
    "}"
   ]
  },
  {
   "cell_type": "markdown",
   "metadata": {},
   "source": [
    "# Sample Structure"
   ]
  },
  {
   "cell_type": "markdown",
   "metadata": {},
   "source": [
    "## Sample Class being compiled"
   ]
  },
   {
    "cell_type": "code",
    "execution_count": null,
    "metadata": {
     "tags": []
    },
    "outputs": [],
    "source": [
     "%%compile sample.java\n",
     "\n",
     "//Taken From https://github.com/CryptoAPI-Bench/CryptoAPI-Bench/blob/master/src/main/java/org/cryptoapi/bench/brokenhash/BrokenHashABICase10.java\n",
     "\n",
     "import java.security.MessageDigest;\n",
     "import java.security.NoSuchAlgorithmException;\n",
     "\n",
     "public class sample {\n",
     "    public static void main(String [] args) throws NoSuchAlgorithmException {\n",
     "        String str = \"abcdef\";\n",
     "        String crypto = \"MD5\";\n",
     "        method2(str,crypto);\n",
     "    }\n",
     "    public static void method2(String s, String cryptoHash) throws NoSuchAlgorithmException {\n",
     "        String str2 = s;\n",
     "        String hashAlgo = cryptoHash;\n",
     "        method1(str2,hashAlgo);\n",
     "    }\n",
     "    public static void method1(String str, String crypto) throws NoSuchAlgorithmException {\n",
     "        MessageDigest md = MessageDigest.getInstance(crypto);\n",
     "        md.update(str.getBytes());\n",
     "        System.out.println(md.digest());\n",
     "    }\n",
     "}"
    ]
   },
  {
   "cell_type": "markdown",
   "metadata": {},
   "source": [
    "## Java Class Test"
   ]
  },
{
 "cell_type": "code",
 "execution_count": null,
 "metadata": {},
 "outputs": [],
 "source": [
  "String source = %compiled\n",
  "AnalyzerReport result = main_TestableFile_VerySimple.scanfile(source);\n",
  "System.out.println(result);"
 ]
}
 ],
 "metadata": {
  "kernelspec": {
   "display_name": "Java",
   "language": "java",
   "name": "java"
  },
  "language_info": {
   "codemirror_mode": "java",
   "file_extension": ".jshell",
   "mimetype": "text/x-java-source",
   "name": "Java",
   "pygments_lexer": "java",
   "version": "11.0.7+10"
  }
 },
 "nbformat": 4,
 "nbformat_minor": 4
}
